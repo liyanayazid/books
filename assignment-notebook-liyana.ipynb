{
 "cells": [
  {
   "cell_type": "markdown",
   "id": "6f3fafbb",
   "metadata": {
    "papermill": {
     "duration": 0.006599,
     "end_time": "2022-01-21T15:49:55.219473",
     "exception": false,
     "start_time": "2022-01-21T15:49:55.212874",
     "status": "completed"
    },
    "tags": []
   },
   "source": [
    "# Assignment Notebook\n",
    "Hi! You can find everything you need about assignments of each part of the presentation here. Please feel free to go to the presentation material and refresh your mind if you need to, but don't copy and paste! Answer each question in your own words. Avoid short answers if possible. Thank you :)\n",
    "\n",
    "This is [the link for the base slides](https://drive.google.com/file/d/1oC5q4S3RqayhHc83CmCMYdQVcQ3IDQX8/view?usp=sharing) by the way. You can find the course materials there and use them to answer the questions (only if you needed to... feel free to answer them from what you learned)."
   ]
  },
  {
   "cell_type": "markdown",
   "id": "8afb100d",
   "metadata": {
    "papermill": {
     "duration": 0.005284,
     "end_time": "2022-01-21T15:49:55.230579",
     "exception": false,
     "start_time": "2022-01-21T15:49:55.225295",
     "status": "completed"
    },
    "tags": []
   },
   "source": [
    "## Part 1: A/B Testing\n",
    "\n",
    "### Question Cell\n",
    "\n",
    "**Question 1:** Please define A/B testing in a way that is intuitive, simple, and at the same time accurate.\n",
    "\n",
    "**Question 2:** Suppose Deriv.com is trying to optimize its marketing campaign to attrackt more user sign ups. The managers decide to run A/B testing to respond to users' preferences based on evidence, instead of pure guess. Which teams and/or departments do you think will be involved in designing and implementing the A/B tests?\n",
    "\n",
    "**Question 3:** Think of one example that Google Search could use hypothesis testing to optimize its results page. Please share your idea with us!"
   ]
  },
  {
   "cell_type": "markdown",
   "id": "ff773700",
   "metadata": {
    "papermill": {
     "duration": 0.005143,
     "end_time": "2022-01-21T15:49:55.241201",
     "exception": false,
     "start_time": "2022-01-21T15:49:55.236058",
     "status": "completed"
    },
    "tags": []
   },
   "source": [
    "### Answer Cell\n",
    "\n",
    "**Answer 1:** A method of comparing two versions of a web page or app against each other to determine which one performs better.\n",
    "\n",
    "**Answer 2:** Marketing team\n",
    "\n",
    "**Answer 3:** When user runs a query on Google search engine, it then tries to decide between the hypothesis \"this result is accurate to the user's search\" and the hypothesis \"this result is not accurate to the user's search.\" There are two kinds of errors the search engine can make: showing incorrect results, and failing to show the user results that are accurate and precise. The null hypothesis is that the result is not accurate or incorrect; the alternative hypothesis is that the result is accurate. "
   ]
  },
  {
   "cell_type": "markdown",
   "id": "c9af51d9",
   "metadata": {
    "papermill": {
     "duration": 0.005332,
     "end_time": "2022-01-21T15:49:55.252206",
     "exception": false,
     "start_time": "2022-01-21T15:49:55.246874",
     "status": "completed"
    },
    "tags": []
   },
   "source": [
    "## Part 2: Hypothesis Testing: Foundations\n",
    "\n",
    "### Question Cell\n",
    "\n",
    "**Question 1:** Please define hypothesis testing using your own words.\n",
    "\n",
    "**Question 2:** What is a t-statistics in intuitive and human language terms? \n",
    "\n",
    "**Question 3:** Assume that you work for a medication manufacturer company and the research department have compe up with a new drug for sore throat. Propose a pair of null and alternative hypothesis for this problem. If you need more assumptions, feel free to add some as you like.\n",
    "\n",
    "**Question 4:** In your words, define what p-value and power of a test are.\n"
   ]
  },
  {
   "cell_type": "markdown",
   "id": "4c48cf70",
   "metadata": {
    "papermill": {
     "duration": 0.005346,
     "end_time": "2022-01-21T15:49:55.263112",
     "exception": false,
     "start_time": "2022-01-21T15:49:55.257766",
     "status": "completed"
    },
    "tags": []
   },
   "source": [
    "### Answer Cell\n",
    "\n",
    "*Edit this cell and write your answers here...*\n",
    "\n",
    "**Answer 1:** A way to test the results of a survey or experiment to see if you have meaningful results.\n",
    "\n",
    "**Answer 2:**  To measure the accuracy of estimation of the central point, mean or median by estimating some measure of uncertainty.\n",
    "\n",
    "**Answer 3:** The conclusion will be based on what happens when a group of subjects use the drug to treat sore throats. Most sore throats eventually go away on their own, and some sore throats are hard to relieve, so the company can make two kinds of mistake: incorrectly concluding that the drug works when in fact it does not, and failing to notice that an effective drug works. \n",
    "\n",
    "Null hypothesis = The drug does not relieve sore throats.\n",
    "Alternative hypothesis= The drug can relive sore throats.\n",
    "\n",
    "Type I error = Occurs if the company concludes that the drug works when in fact it does not. \n",
    "\n",
    "Type II error = Occurs if the drug is effective, but the company concludes that it is not.\n",
    "\n",
    "**Answer 4:** p-value is a probability of obtaining the observed difference (or a larger one) in the outcome measure, given that no difference exists between treatments in the population.\n",
    "\n",
    "For example: To test whether a new drug can reduce weight.\n",
    "\n",
    "First, randomly sample volunteers into two group, where group A tests for the new drug while group B test for a placebo (drug with no active ingredients). We measure the volunteers' body weight difference from the start until the end of the study. We then found that group A lose body weight, but group B does not gain or lose body weight. To determine whether the new drug works, we make the null hypothesis which is the weight difference in those who receive the new drug is the same as those who receive the placebo. If this were true, what is the probability (p-value) of discovering a body weight reduction in those treated with the new drug (Group A) compared with the placebo (Group B)? This p-value measures the strength of evidence against the null hypothesis. The smaller the p-value, the stronger the evidence against the null hypothesis. We then use t-test to determine the p-value. "
   ]
  },
  {
   "cell_type": "markdown",
   "id": "dc7a34d5",
   "metadata": {
    "papermill": {
     "duration": 0.005232,
     "end_time": "2022-01-21T15:49:55.273910",
     "exception": false,
     "start_time": "2022-01-21T15:49:55.268678",
     "status": "completed"
    },
    "tags": []
   },
   "source": [
    "## Part 3: Hypothesis Testing: Popular Tests\n",
    "\n",
    "### Question Cell\n",
    "\n",
    "**Question 1:** Create a real world problem that can be modeled using hypothesis testing and for which the appropriate test would be binomial proportion.\n",
    "\n",
    "**Question 2:** Express the difference between one population and two population hypothesis test settings."
   ]
  },
  {
   "cell_type": "markdown",
   "id": "92c2609e",
   "metadata": {
    "papermill": {
     "duration": 0.005333,
     "end_time": "2022-01-21T15:49:55.285015",
     "exception": false,
     "start_time": "2022-01-21T15:49:55.279682",
     "status": "completed"
    },
    "tags": []
   },
   "source": [
    "### Answer Cell\n",
    "\n",
    "**Answer 1:** A hospital manager and wants to organize the staff numbers correctly for different weekdays. He knows the total number of patients came in to a emergency station because of accidents in a given time period. He can analyse the distribution of patient numbers for each day of the week. Most likely he will have more such cases in the weekend and he need larger staff. The manager can use binomial distributions to calculate changes in demand and plan accordingly.\n",
    "\n",
    "**Answer 2:** \n",
    "\n",
    "Difference in the population proportions:\n",
    "P\n",
    "‘\n",
    "A\n",
    "−\n",
    "P\n",
    "‘\n",
    "B\n",
    "\n",
    "\n",
    "The null hypothesis states that the two proportions are the same:,\n",
    "H\n",
    "0\n",
    ":\n",
    "p\n",
    "A\n",
    "=\n",
    "p\n",
    "B\n",
    ". \n",
    "\n",
    "\n",
    "The pooled proportion:\n",
    "\n",
    "P\n",
    "c\n",
    "=\n",
    "x\n",
    "A\n",
    "+\n",
    "x\n",
    "B\n",
    "n\n",
    "A\n",
    "+\n",
    "n\n",
    "B\n",
    "\n",
    "The distribution for the differences is:\n",
    "\n",
    "P\n",
    "‘\n",
    "A\n",
    "−\n",
    "P\n",
    "‘\n",
    "B\n",
    "∼\n",
    "N\n",
    "[\n",
    "0\n",
    ",\n",
    "√\n",
    "p\n",
    "c\n",
    "⋅\n",
    "(\n",
    "1\n",
    "−\n",
    "p\n",
    "c\n",
    ")\n",
    "⋅\n",
    "(\n",
    "1\n",
    "n\n",
    "A\n",
    "+\n",
    "1\n",
    "n\n",
    "B\n",
    ")\n",
    "]\n",
    ".\n",
    "\n",
    "The test statistic (\n",
    "z\n",
    "-score):\n",
    "\n",
    "z=\n",
    "(\n",
    "p\n",
    "‘\n",
    "A\n",
    "−\n",
    "p\n",
    "‘\n",
    "B\n",
    ")\n",
    "−\n",
    "(\n",
    "p\n",
    "A\n",
    "−\n",
    "p\n",
    "B\n",
    ")\n",
    "/\n",
    "√\n",
    "(\n",
    "p\n",
    "c\n",
    "⋅\n",
    "(\n",
    "1\n",
    "−\n",
    "p\n",
    "c\n",
    ")\n",
    "⋅\n",
    "(\n",
    "1\n",
    "n\n",
    "A\n",
    "+\n",
    "1\n",
    "n\n",
    "B\n",
    "))\n",
    "\n"
   ]
  },
  {
   "cell_type": "code",
   "execution_count": null,
   "id": "6eec3f9c",
   "metadata": {
    "papermill": {
     "duration": 0.005315,
     "end_time": "2022-01-21T15:49:55.295858",
     "exception": false,
     "start_time": "2022-01-21T15:49:55.290543",
     "status": "completed"
    },
    "tags": []
   },
   "outputs": [],
   "source": [
    "\n",
    "\n"
   ]
  }
 ],
 "metadata": {
  "kernelspec": {
   "display_name": "Python 3",
   "language": "python",
   "name": "python3"
  },
  "language_info": {
   "codemirror_mode": {
    "name": "ipython",
    "version": 3
   },
   "file_extension": ".py",
   "mimetype": "text/x-python",
   "name": "python",
   "nbconvert_exporter": "python",
   "pygments_lexer": "ipython3",
   "version": "3.7.12"
  },
  "papermill": {
   "default_parameters": {},
   "duration": 10.41371,
   "end_time": "2022-01-21T15:49:55.913841",
   "environment_variables": {},
   "exception": null,
   "input_path": "__notebook__.ipynb",
   "output_path": "__notebook__.ipynb",
   "parameters": {},
   "start_time": "2022-01-21T15:49:45.500131",
   "version": "2.3.3"
  }
 },
 "nbformat": 4,
 "nbformat_minor": 5
}
